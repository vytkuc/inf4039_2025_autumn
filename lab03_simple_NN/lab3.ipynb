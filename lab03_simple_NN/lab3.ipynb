{
  "cells": [
    {
      "cell_type": "markdown",
      "metadata": {
        "id": "t5G_HqTgZ2L5"
      },
      "source": [
        "# INF4039 Deep Learning Systems / Giliojo mokymo sistemų taikymai\n",
        "**LAB3**"
      ]
    },
    {
      "cell_type": "markdown",
      "metadata": {
        "id": "KeW49_46Z2Mf"
      },
      "source": [
        "## Homework 1 (optional)\n",
        "\n",
        "Install Keras library on your personal computer at home\n",
        "\n",
        "https://keras.io/getting_started/#installing-keras\n",
        "\n",
        "or simply use google colab\n",
        "\n",
        "https://colab.research.google.com/"
      ]
    },
    {
      "cell_type": "markdown",
      "metadata": {
        "id": "HSTzw5MIZ2Mi"
      },
      "source": [
        "## Homework 2 (optional)\n",
        "\n",
        "Write a simple neural network solving OR or AND task using keras library"
      ]
    },
    {
      "cell_type": "markdown",
      "metadata": {
        "id": "m4ZrU8_aZ2Mj"
      },
      "source": [
        "## Introduction to the neural networks\n",
        "\n",
        "In this lab we will learn how to create the most simple neural network from scratch."
      ]
    },
    {
      "cell_type": "markdown",
      "metadata": {
        "id": "_tQkazzkZ2Mk"
      },
      "source": [
        "### Simple forward propagation\n",
        "\n",
        "<img src=\"https://github.com/vytkuc/inf4039_2024_autumn/blob/main/lab03_simple_NN/img/simple_network.png?raw=1\"\n",
        "     width=350 height=350\n",
        "     style=\"display: block; margin: 0 auto\"/>\n",
        "\n",
        "The value of each output neuron can be calculated using the formula:\n",
        "$$ y_j = b_j + \\sum\\limits_{i} x_iw_{ij} $$\n",
        "\n",
        "or in matrix form\"\n",
        "\n",
        "$$ Y = XW + B, $$\n",
        "\n",
        "where $X = [x_1 ... x_i], \\quad$ $W=\\left[\\begin{array}{ccc} w_{11} & \\ldots & w_{1 j} \\\\ \\vdots & \\ddots & \\vdots \\\\ w_{i 1} & \\ldots & w_{i j} \\end{array}\\right] \\quad$ and $B = [b_1 ... b_j]$."
      ]
    },
    {
      "cell_type": "code",
      "execution_count": 1,
      "metadata": {
        "colab": {
          "base_uri": "https://localhost:8080/"
        },
        "id": "vSWfFFCsZ2Mo",
        "outputId": "ab230358-ae0a-4839-c5ba-63ae5bfe40d5"
      },
      "outputs": [
        {
          "name": "stdout",
          "output_type": "stream",
          "text": [
            "[4.7  3.18 5.82]\n"
          ]
        }
      ],
      "source": [
        "import numpy as np\n",
        "\n",
        "X = [1, 2, 3]\n",
        "\n",
        "W = [[ 0.2, 0.8, -0.5],\n",
        "    [ 0.5, -0.91, 0.26],\n",
        "    [0.5, 0.4, 0.6]]\n",
        "\n",
        "B = [2, 3, 4]\n",
        "\n",
        "Y = np.dot(X, W) + B\n",
        "print(Y)"
      ]
    },
    {
      "cell_type": "markdown",
      "metadata": {
        "id": "2LsOtA3yZ2Mx"
      },
      "source": [
        "## Single layer perceptron solving XOR\n",
        "\n",
        "[XOR gate](https://en.wikipedia.org/wiki/XOR_gate) is a logical operation that gives a true output when the number of true inputs is odd:\n",
        "\n",
        "| A  | B  | A XOR B |\n",
        "|--- |--- | ------- |\n",
        "| 0  | 0  | 0       |\n",
        "| 0  | 1  | 1       |\n",
        "| 1  | 0  | 1       |\n",
        "| 1  | 1  | 0       |"
      ]
    },
    {
      "cell_type": "code",
      "execution_count": 2,
      "metadata": {
        "colab": {
          "base_uri": "https://localhost:8080/"
        },
        "id": "6a_sQR1AZ2M1",
        "outputId": "d87acafe-aca5-471c-eb23-2d3bd7991a79"
      },
      "outputs": [
        {
          "name": "stdout",
          "output_type": "stream",
          "text": [
            "[[0 0 1 1]\n",
            " [0 1 0 1]]\n"
          ]
        }
      ],
      "source": [
        "# inputs\n",
        "a = np.array([0, 0, 1, 1])\n",
        "b = np.array([0, 1, 0, 1])\n",
        "\n",
        "# combined input\n",
        "x = np.array([a, b])\n",
        "print(x)\n",
        "\n",
        "# outputs / labels\n",
        "y_true = np.array([[0,1,1,0]])"
      ]
    },
    {
      "cell_type": "markdown",
      "metadata": {
        "id": "yFUB3bzdZ2M4"
      },
      "source": [
        "### Activation function (Sigmoid)\n",
        "\n",
        "The Sigmoid function maps a number into the continuous interval between 0 and 1:\n",
        "\n",
        "$$ S(x) = \\frac{1}{1 + e^{-x}} $$"
      ]
    },
    {
      "cell_type": "code",
      "execution_count": 3,
      "metadata": {
        "colab": {
          "base_uri": "https://localhost:8080/",
          "height": 430
        },
        "id": "mIZnlzg9Z2M6",
        "outputId": "246d1f98-5c90-43a2-b3cb-92b45ff914e8"
      },
      "outputs": [
        {
          "data": {
            "image/png": "[encoded data removed]",
            "text/plain": [
              "<Figure size 640x480 with 1 Axes>"
            ]
          },
          "metadata": {},
          "output_type": "display_data"
        }
      ],
      "source": [
        "import matplotlib.pyplot as plt\n",
        "\n",
        "# Sigmoid activation function\n",
        "def sigmoid(x):\n",
        "    return 1/(1 + np.exp(-x))\n",
        "\n",
        "\n",
        "# Plot Sigmoid function\n",
        "x_arr = np.linspace(-7, 7, num=100)\n",
        "plt.plot(x_arr, sigmoid(x_arr));"
      ]
    },
    {
      "cell_type": "code",
      "execution_count": 4,
      "metadata": {
        "colab": {
          "base_uri": "https://localhost:8080/"
        },
        "id": "tmxaUBT9Z2M9",
        "outputId": "a9402e4c-f009-436d-8cb5-bc1bc114a3d4"
      },
      "outputs": [
        {
          "name": "stdout",
          "output_type": "stream",
          "text": [
            "w1 = \n",
            "[[0.37454012 0.95071431]\n",
            " [0.73199394 0.59865848]]\n",
            "w2 = \n",
            "[[0.15601864 0.15599452]]\n"
          ]
        }
      ],
      "source": [
        "# Define the number of neurons\n",
        "input_neurons = 2\n",
        "hidden_neurons = 2\n",
        "output_neurons = 1\n",
        "\n",
        "# Total training examples\n",
        "samples = x.shape[1]\n",
        "\n",
        "# Learning rate\n",
        "lr = 0.1\n",
        "\n",
        "# Define random seed to replicate the outputs\n",
        "np.random.seed(42)\n",
        "\n",
        "# Initializing the weights for hidden and output layers\n",
        "w1 = np.random.rand(hidden_neurons, input_neurons)\n",
        "w2 = np.random.rand(output_neurons, hidden_neurons)\n",
        "\n",
        "print(f\"w1 = \\n{w1}\")\n",
        "print(f\"w2 = \\n{w2}\")"
      ]
    },
    {
      "cell_type": "markdown",
      "metadata": {
        "id": "y9b9YTx4Z2NB"
      },
      "source": [
        "Our network is going to look like this:\n",
        "\n",
        "<img src=\"https://github.com/vytkuc/inf4039_2024_autumn/blob/main/lab03_simple_NN/img/xor_slp.png?raw=1\"\n",
        "     width=800 height=300\n",
        "     style=\"display: block; margin: 0 auto\"/>"
      ]
    },
    {
      "cell_type": "markdown",
      "metadata": {
        "id": "PJmiZsXyZ2NC"
      },
      "source": [
        "### Forward propagation"
      ]
    },
    {
      "cell_type": "code",
      "execution_count": 5,
      "metadata": {
        "id": "GqpTOZ-_Z2NC"
      },
      "outputs": [],
      "source": [
        "def forward_prop(w1, w2, x):\n",
        "    z1 = np.dot(w1, x)\n",
        "    a1 = sigmoid(z1)\n",
        "    z2 = np.dot(w2, a1)\n",
        "    y_pred = sigmoid(z2)\n",
        "    return z1, a1, z2, y_pred"
      ]
    },
    {
      "cell_type": "markdown",
      "metadata": {
        "id": "eXgF7T3jZ2ND"
      },
      "source": [
        "The final output $y$ expression is:\n",
        "$$ y_{pred} = S(S(XW_1^T)W_2^T), $$\n",
        "\n",
        "where:\n",
        "$$ Z_1 = XW_1^T $$\n",
        "$$ A_1 = S(Z_1) $$\n",
        "$$ Z_2 = A_1W_2^T $$\n",
        "$$ y_{pred} = S(Z_2) $$\n",
        "\n",
        "After that we can find the error of our prediction. For that we will use Mean Squared Error:\n",
        "\n",
        "$$ \\text{MSE} = \\frac{1}{2}\\left( Y_{\\text{true}} - Y_{\\text{pred}} \\right)^2 $$"
      ]
    },
    {
      "cell_type": "markdown",
      "metadata": {
        "id": "40nakYcNZ2NE"
      },
      "source": [
        "### Backpropagation\n",
        "\n",
        "Back-propagation is the essence of neural net training. It is the practice of fine-tuning the weights of a neural net based on the error rate (i.e. loss) obtained in the previous epoch (i.e. iteration).\n",
        "\n",
        "The main expression of the backpropagation is simply a derivative of out output from the forward propagation:\n",
        "\n",
        "\n",
        "$$ \\frac{\\partial \\text{err}}{\\partial W_1} = \\frac{\\partial \\text{err}}{\\partial y_{pred}} \\cdot \\frac{\\partial y_{pred}}{\\partial Z_2} \\cdot \\frac{\\partial Z_2}{\\partial A_1} \\cdot \\frac{\\partial A_1}{\\partial Z_1} \\cdot \\frac{\\partial Z_1}{\\partial W_1} $$\n",
        "\n",
        "$$ \\frac{\\partial \\text{err}}{\\partial W_2} = \\frac{\\partial \\text{err}}{\\partial y_{pred}} \\cdot \\frac{\\partial y_{pred}}{\\partial Z_2} \\cdot \\frac{\\partial Z_2}{\\partial W_2} $$\n",
        "\n",
        "If calculate it, we get:\n",
        "\n",
        "$$ \\frac{\\partial \\text{err}}{\\partial y_{pred}} = \\left( \\text{MSE}(Y_{true}, Y_{pred}) \\right)^{\\prime} = \\left(\\frac{1}{2}(y_{true} - y_{pred})^2\\right)^{\\prime} = y_{pred} - y_{true}$$\n",
        "\n",
        "$$ \\frac{\\partial y_{pred}}{\\partial Z_2} = \\left( \\sigma(Z_2) \\right)^{\\prime} = \\sigma(Z_2) \\cdot \\left( 1 - \\sigma(Z_2)\\right) $$\n",
        "\n",
        "$$ \\frac{\\partial Z_2}{\\partial W_2} = (A_1W_2^T)^{\\prime} = A_1$$\n",
        "\n",
        "$$ \\frac{\\partial \\text{err}}{\\partial W_2} = (y_{pred} - y_{true}) \\cdot \\sigma(Z_2) \\left( 1 - \\sigma(Z_2)\\right) \\cdot A_1$$"
      ]
    },
    {
      "cell_type": "code",
      "execution_count": 6,
      "metadata": {
        "id": "JY-vr7daZ2NS"
      },
      "outputs": [],
      "source": [
        "def back_prop(w1, w2, z1, a1, z2, y_pred, y_true):\n",
        "\n",
        "    dz2 = (y_pred - y_true) * y_pred * (1 - y_pred)\n",
        "    dw2 = np.dot(dz2, a1.T)\n",
        "    dw2 = np.reshape(dw2, w2.shape)\n",
        "\n",
        "    dz1 = np.dot(w2.T, dz2) * a1 * (1 - a1)\n",
        "    dw1 = np.dot(dz1, x.T)\n",
        "    dw1 = np.reshape(dw1, w1.shape)\n",
        "\n",
        "    return dz2, dw2, dz1, dw1"
      ]
    },
    {
      "cell_type": "markdown",
      "metadata": {
        "id": "jwVWzEwKZ2NU"
      },
      "source": [
        "### First iteration"
      ]
    },
    {
      "cell_type": "code",
      "execution_count": 7,
      "metadata": {
        "colab": {
          "base_uri": "https://localhost:8080/"
        },
        "id": "LL8TiK_qZ2NV",
        "outputId": "f717577d-4acb-4dee-fdbb-19e00e2f7562"
      },
      "outputs": [
        {
          "name": "stdout",
          "output_type": "stream",
          "text": [
            "[[0.53892274 0.55309921 0.54928541 0.56135101]] [[0 1 1 0]]\n"
          ]
        }
      ],
      "source": [
        "z1, a1, z2, y_pred = forward_prop(w1, w2, x)\n",
        "loss = 0.5 * np.sum((y_true - y_pred) ** 2)\n",
        "dz2, dw2, dz1, dw1 = back_prop( w1, w2, z1, a1, z2, y_pred, y_true)\n",
        "\n",
        "print(y_pred, y_true)"
      ]
    },
    {
      "cell_type": "markdown",
      "metadata": {
        "id": "ZkoQ48pVZ2NW"
      },
      "source": [
        "### New weights\n",
        "\n",
        "$$ w_1 = w_1 - (lr \\cdot dw_1) $$\n",
        "$$ w_2 = w_2 - (lr \\cdot dw_2) $$"
      ]
    },
    {
      "cell_type": "code",
      "execution_count": 8,
      "metadata": {
        "colab": {
          "base_uri": "https://localhost:8080/",
          "height": 466
        },
        "id": "WuB-cK4tZ2NX",
        "outputId": "ff16300c-fbbc-4a1f-eb95-60ff262d6646"
      },
      "outputs": [
        {
          "data": {
            "text/plain": [
              "Text(0, 0.5, 'Loss value')"
            ]
          },
          "execution_count": 8,
          "metadata": {},
          "output_type": "execute_result"
        },
        {
          "data": {
            "image/png": "[encoded data removed]",
            "text/plain": [
              "<Figure size 640x480 with 1 Axes>"
            ]
          },
          "metadata": {},
          "output_type": "display_data"
        }
      ],
      "source": [
        "losses = []\n",
        "iterations = 20000\n",
        "\n",
        "for i in range(iterations):\n",
        "    z1, a1, z2, y_pred = forward_prop(w1, w2, x)\n",
        "    loss = 0.5 * np.sum((y_true - y_pred) ** 2)\n",
        "    losses.append(loss)\n",
        "    dz2, dw2, dz1, dw1 = back_prop(w1, w2, z1, a1, z2, y_pred, y_true)\n",
        "    w2 = w2 - lr*dw2\n",
        "    w1 = w1 - lr*dw1\n",
        "\n",
        "# Plot loss to see if the network is learning\n",
        "plt.plot(losses);\n",
        "plt.xlabel(\"EPOCHS\")\n",
        "plt.ylabel(\"Loss value\")"
      ]
    },
    {
      "cell_type": "markdown",
      "metadata": {
        "id": "gPsgtubQZ2NY"
      },
      "source": [
        "## Prediction"
      ]
    },
    {
      "cell_type": "code",
      "execution_count": 9,
      "metadata": {
        "colab": {
          "base_uri": "https://localhost:8080/"
        },
        "id": "bD8Od_qUZ2NZ",
        "outputId": "b5605ee9-2849-4b1a-a964-aa6020d79ccb"
      },
      "outputs": [
        {
          "name": "stdout",
          "output_type": "stream",
          "text": [
            "0.12080725702789358\n",
            "For input [0 0] output is 0\n"
          ]
        }
      ],
      "source": [
        "def predict(w1, w2, input):\n",
        "    z1, a1, z2, y_pred = forward_prop(w1, w2, input)\n",
        "    y_pred = np.squeeze(y_pred)\n",
        "    print(y_pred)\n",
        "\n",
        "    if y_pred >= 0.5:\n",
        "        print(f\"For input {input} output is 1\")\n",
        "    else:\n",
        "        print(f\"For input {input} output is 0\")\n",
        "\n",
        "predict(w1, w2, np.array([0, 0]))"
      ]
    },
    {
      "cell_type": "markdown",
      "metadata": {
        "id": "yZfwjLTkZ2Na"
      },
      "source": [
        "# Same model with Keras and Tensorflow\n",
        "\n",
        "Tensorflow is a machine learning platform which we will be using for out labs throughout this course. To install it, mainly use the commands:"
      ]
    },
    {
      "cell_type": "code",
      "execution_count": 10,
      "metadata": {
        "id": "Z56zi8MsZ2Nb"
      },
      "outputs": [],
      "source": [
        "## Installation for MacOS\n",
        "#!python -m pip install tensorflow-macos\n",
        "\n",
        "## Installation for linux/windows\n",
        "#!pip install tensorflow\n",
        "\n",
        "\n",
        "#!pip install keras"
      ]
    },
    {
      "cell_type": "code",
      "execution_count": 11,
      "metadata": {
        "id": "XXHKz7JUZ2Nb"
      },
      "outputs": [],
      "source": [
        "import tensorflow as tf\n",
        "from tensorflow import keras"
      ]
    },
    {
      "cell_type": "markdown",
      "metadata": {
        "id": "Q7VsbMl4Z2Nc"
      },
      "source": [
        "### Creating the training dataset"
      ]
    },
    {
      "cell_type": "code",
      "execution_count": 12,
      "metadata": {
        "colab": {
          "base_uri": "https://localhost:8080/"
        },
        "id": "nQhJmVNYZ2Nc",
        "outputId": "36fc3d05-576d-43b7-ab29-2275d5be98fb"
      },
      "outputs": [
        {
          "name": "stdout",
          "output_type": "stream",
          "text": [
            "(4, 2)\n"
          ]
        }
      ],
      "source": [
        "a = np.array([0, 0, 1, 1])\n",
        "b = np.array([0, 1, 0, 1])\n",
        "x_train = np.array(list(zip(a,b)))\n",
        "print(x_train.shape)\n",
        "\n",
        "y_train = np.array([0, 1, 1, 0])"
      ]
    },
    {
      "cell_type": "markdown",
      "metadata": {
        "id": "LhKIhQQaZ2Nf"
      },
      "source": [
        "## Neural network description\n",
        "\n",
        "A [Sequential model](https://www.tensorflow.org/guide/keras/sequential_model) is appropriate for a plain stack of layers where each layer has exactly one input tensor and one output tensor."
      ]
    },
    {
      "cell_type": "code",
      "execution_count": 13,
      "metadata": {
        "colab": {
          "base_uri": "https://localhost:8080/"
        },
        "id": "iIRQXUkxgJgC",
        "outputId": "dcd64b07-256d-4d93-d238-e153e206e4c6"
      },
      "outputs": [
        {
          "data": {
            "text/plain": [
              "2"
            ]
          },
          "execution_count": 13,
          "metadata": {},
          "output_type": "execute_result"
        }
      ],
      "source": [
        "x_train.shape[1]"
      ]
    },
    {
      "cell_type": "code",
      "execution_count": 14,
      "metadata": {
        "colab": {
          "base_uri": "https://localhost:8080/",
          "height": 356
        },
        "id": "LEielVOQZ2Nf",
        "outputId": "6ed32baa-5558-4775-c725-0abdb1fd6804"
      },
      "outputs": [
        {
          "name": "stdout",
          "output_type": "stream",
          "text": [
            "Model: \"sequential\"\n",
            "_________________________________________________________________\n",
            " Layer (type)                Output Shape              Param #   \n",
            "=================================================================\n",
            " layer1 (Dense)              (None, 10)                30        \n",
            "                                                                 \n",
            " layer2 (Dense)              (None, 10)                110       \n",
            "                                                                 \n",
            " layer3 (Dense)              (None, 1)                 11        \n",
            "                                                                 \n",
            "=================================================================\n",
            "Total params: 151\n",
            "Trainable params: 151\n",
            "Non-trainable params: 0\n",
            "_________________________________________________________________\n"
          ]
        }
      ],
      "source": [
        "from tensorflow.keras.layers import Input, Dense\n",
        "from tensorflow.keras.models import Sequential\n",
        "from tensorflow.keras import layers\n",
        "\n",
        "\n",
        "model = keras.Sequential(\n",
        "    [\n",
        "        layers.InputLayer(input_shape=[x_train.shape[1]]),\n",
        "        layers.Dense(10, activation=\"relu\", name=\"layer1\"),\n",
        "        layers.Dense(10, activation=\"relu\", name=\"layer2\"),\n",
        "        layers.Dense(1, activation = \"sigmoid\", name=\"layer3\"),\n",
        "    ]\n",
        ")\n",
        "\n",
        "\n",
        "model.summary()"
      ]
    },
    {
      "cell_type": "markdown",
      "metadata": {
        "id": "vXnCHIIDZ2Ni"
      },
      "source": [
        "### Selecting main parameters and compiling the model"
      ]
    },
    {
      "cell_type": "code",
      "execution_count": 15,
      "metadata": {
        "id": "yafmi7vmZ2Nj"
      },
      "outputs": [],
      "source": [
        "model.compile(optimizer = \"adam\", loss = \"binary_crossentropy\", metrics = [\"binary_accuracy\"])\n",
        "history = model.fit(x_train, y_train, epochs = 1000, verbose=0)"
      ]
    },
    {
      "cell_type": "markdown",
      "metadata": {
        "id": "V2102EjfZ2No"
      },
      "source": [
        "### Prediction"
      ]
    },
    {
      "cell_type": "code",
      "execution_count": 16,
      "metadata": {
        "id": "YmHIRF6khpuY"
      },
      "outputs": [
        {
          "name": "stdout",
          "output_type": "stream",
          "text": [
            "1/1 [==============================] - 0s 71ms/step\n"
          ]
        },
        {
          "data": {
            "text/plain": [
              "array([[0.27397263],\n",
              "       [0.9915322 ],\n",
              "       [0.97173554],\n",
              "       [0.00849633]], dtype=float32)"
            ]
          },
          "execution_count": 16,
          "metadata": {},
          "output_type": "execute_result"
        }
      ],
      "source": [
        "model.predict(x_train)"
      ]
    },
    {
      "cell_type": "code",
      "execution_count": 17,
      "metadata": {
        "id": "aahMTh5jZ2Np"
      },
      "outputs": [
        {
          "name": "stdout",
          "output_type": "stream",
          "text": [
            "1/1 [==============================] - 0s 16ms/step\n"
          ]
        },
        {
          "data": {
            "text/plain": [
              "array([[0.],\n",
              "       [1.],\n",
              "       [1.],\n",
              "       [0.]], dtype=float32)"
            ]
          },
          "execution_count": 17,
          "metadata": {},
          "output_type": "execute_result"
        }
      ],
      "source": [
        "model.predict(x_train).round()"
      ]
    },
    {
      "cell_type": "code",
      "execution_count": 18,
      "metadata": {
        "id": "Ws9ZCrEJZ2Np"
      },
      "outputs": [
        {
          "data": {
            "text/plain": [
              "array([[0, 0],\n",
              "       [0, 1],\n",
              "       [1, 0],\n",
              "       [1, 1]])"
            ]
          },
          "execution_count": 18,
          "metadata": {},
          "output_type": "execute_result"
        }
      ],
      "source": [
        "x_train"
      ]
    },
    {
      "cell_type": "markdown",
      "metadata": {
        "id": "LFJahxaoZ2Nq"
      },
      "source": [
        "### Plotting loss with keras"
      ]
    },
    {
      "cell_type": "code",
      "execution_count": 19,
      "metadata": {
        "id": "vYmi9S54Z2Nq"
      },
      "outputs": [
        {
          "data": {
            "image/png": "[encoded data removed]",
            "text/plain": [
              "<Figure size 640x480 with 1 Axes>"
            ]
          },
          "metadata": {},
          "output_type": "display_data"
        }
      ],
      "source": [
        "plt.plot(history.history['loss'])\n",
        "plt.title('model loss')\n",
        "plt.ylabel('loss')\n",
        "plt.xlabel('epoch')\n",
        "plt.show()"
      ]
    },
    {
      "cell_type": "code",
      "execution_count": null,
      "metadata": {
        "id": "L2J0FT6pZ2Nr"
      },
      "outputs": [],
      "source": []
    },
    {
      "cell_type": "markdown",
      "metadata": {
        "id": "3sKAORHtEDUS"
      },
      "source": [
        "# Example from slides"
      ]
    },
    {
      "cell_type": "code",
      "execution_count": 20,
      "metadata": {
        "colab": {
          "base_uri": "https://localhost:8080/"
        },
        "id": "PkG0yUh4EHCO",
        "outputId": "926b4265-5673-4c16-f6f1-0b6bac3daa2c"
      },
      "outputs": [
        {
          "name": "stdout",
          "output_type": "stream",
          "text": [
            "0.715\n"
          ]
        }
      ],
      "source": [
        "import numpy as np\n",
        "\n",
        "y_true = 1\n",
        "lr = 0.1\n",
        "\n",
        "x1 = 0.5\n",
        "x2 = -0.2\n",
        "x3 = 0.15\n",
        "x = [x1, x2, x3]\n",
        "\n",
        "w1 = 0.2\n",
        "w2 = 2.0\n",
        "w3 = 0.1\n",
        "w = [w1, w2, w3]\n",
        "\n",
        "#or w0\n",
        "b = 1\n",
        "\n",
        "net = np.dot(x, w) + b\n",
        "print(net)"
      ]
    },
    {
      "cell_type": "code",
      "execution_count": 21,
      "metadata": {
        "colab": {
          "base_uri": "https://localhost:8080/"
        },
        "id": "qHtZ4y3gE8rV",
        "outputId": "e9b20a5a-abd0-4cd9-a561-b89a824efc3b"
      },
      "outputs": [
        {
          "name": "stdout",
          "output_type": "stream",
          "text": [
            "0.6715050342254059\n"
          ]
        }
      ],
      "source": [
        "y_pred = sigmoid(net)\n",
        "print(y_pred)"
      ]
    },
    {
      "cell_type": "code",
      "execution_count": 22,
      "metadata": {
        "colab": {
          "base_uri": "https://localhost:8080/"
        },
        "id": "v161aZVuFkOS",
        "outputId": "550bb93e-ce76-4f50-cb54-71de78ba0cc2"
      },
      "outputs": [
        {
          "name": "stdout",
          "output_type": "stream",
          "text": [
            "0.05395447126962589\n"
          ]
        }
      ],
      "source": [
        "loss = 0.5 * np.sum((y_true - y_pred) ** 2)\n",
        "print(loss)"
      ]
    },
    {
      "cell_type": "code",
      "execution_count": 23,
      "metadata": {
        "colab": {
          "base_uri": "https://localhost:8080/"
        },
        "id": "jgu0lTGYHcaW",
        "outputId": "593ed65e-4c3c-4f4a-ffc0-61058a9bbefc"
      },
      "outputs": [
        {
          "name": "stdout",
          "output_type": "stream",
          "text": [
            "-0.07246139815304763\n"
          ]
        }
      ],
      "source": [
        "neuron_error = (y_pred - y_true) * y_pred * (1 - y_pred)\n",
        "print(neuron_error)"
      ]
    },
    {
      "cell_type": "code",
      "execution_count": 24,
      "metadata": {
        "colab": {
          "base_uri": "https://localhost:8080/"
        },
        "id": "tqfH2kozIZcS",
        "outputId": "b2f60027-7d34-473a-ffa5-b198bdb346a6"
      },
      "outputs": [
        {
          "name": "stdout",
          "output_type": "stream",
          "text": [
            "0.2036230699076524\n"
          ]
        }
      ],
      "source": [
        "w1 = w1 - lr*neuron_error*x1\n",
        "print(w1)"
      ]
    }
  ],
  "metadata": {
    "colab": {
      "provenance": []
    },
    "kernelspec": {
      "display_name": "base",
      "language": "python",
      "name": "python3"
    },
    "language_info": {
      "codemirror_mode": {
        "name": "ipython",
        "version": 3
      },
      "file_extension": ".py",
      "mimetype": "text/x-python",
      "name": "python",
      "nbconvert_exporter": "python",
      "pygments_lexer": "ipython3",
      "version": "3.9.13"
    },
    "orig_nbformat": 4
  },
  "nbformat": 4,
  "nbformat_minor": 0
}
